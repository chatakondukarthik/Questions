{
 "cells": [
  {
   "cell_type": "code",
   "execution_count": 1,
   "source": [
    "arr=input(\"Enter the array : \")\r\n",
    "arr = list(map(int, arr.split(' ')))\r\n",
    "removed_duplicates=list(set(arr))\r\n",
    "arr = sorted(removed_duplicates)\r\n",
    "\r\n",
    "print(arr)"
   ],
   "outputs": [
    {
     "output_type": "stream",
     "name": "stdout",
     "text": [
      "[123]\n"
     ]
    }
   ],
   "metadata": {}
  },
  {
   "cell_type": "code",
   "execution_count": 2,
   "source": [
    "lst = [4,5,7,8]\r\n",
    "for i in range(1,lst[-1]):\r\n",
    "    if(i in lst): continue\r\n",
    "    else : print(i)"
   ],
   "outputs": [
    {
     "output_type": "stream",
     "name": "stdout",
     "text": [
      "6\n"
     ]
    }
   ],
   "metadata": {}
  },
  {
   "cell_type": "code",
   "execution_count": 1,
   "source": [
    "strr = 'an apple is a fruit'\r\n",
    "res = ''\r\n",
    "for i in strr:\r\n",
    "    if(i == ' '): res += '$'\r\n",
    "    else : res += i\r\n",
    "print(res)"
   ],
   "outputs": [
    {
     "output_type": "stream",
     "name": "stdout",
     "text": [
      "an$apple$is$a$fruit\n"
     ]
    }
   ],
   "metadata": {}
  },
  {
   "cell_type": "code",
   "execution_count": 8,
   "source": [
    "arr = [2,4,5,6,7,7]\r\n",
    "maxi = arr[0]\r\n",
    "secondmax = arr[0]\r\n",
    "for i in arr:\r\n",
    "    if(i>maxi):\r\n",
    "        secondmax = maxi\r\n",
    "        maxi = i\r\n",
    "    if(i<maxi and i>secondmax): secondmax = i\r\n",
    "print(secondmax)"
   ],
   "outputs": [
    {
     "output_type": "stream",
     "name": "stdout",
     "text": [
      "6\n"
     ]
    }
   ],
   "metadata": {}
  },
  {
   "cell_type": "code",
   "execution_count": 20,
   "source": [
    "strr = 'i.like.this.program.very.much'\r\n",
    "strarr=[]\r\n",
    "word = ''\r\n",
    "for i in strr:\r\n",
    "    if(i == '.'): \r\n",
    "        strarr.append(word)\r\n",
    "        word = ''\r\n",
    "    else : word += i\r\n",
    "strarr.append(word)\r\n",
    "ans = ''\r\n",
    "for i in range(len(strarr)-1,-1,-1):\r\n",
    "    ans += strarr[i] + '.'\r\n",
    "ans[:-1]"
   ],
   "outputs": [
    {
     "output_type": "execute_result",
     "data": {
      "text/plain": [
       "'much.very.program.this.like.i'"
      ]
     },
     "metadata": {},
     "execution_count": 20
    }
   ],
   "metadata": {}
  },
  {
   "cell_type": "code",
   "execution_count": 22,
   "source": [
    "string = \"I.am.a.python.programmer\"\r\n",
    "words = string.split('.')\r\n",
    "words = reversed(words)\r\n",
    "print(\".\".join(words))"
   ],
   "outputs": [
    {
     "output_type": "stream",
     "name": "stdout",
     "text": [
      "programmer.python.a.am.I\n"
     ]
    }
   ],
   "metadata": {}
  },
  {
   "cell_type": "code",
   "execution_count": 3,
   "source": [
    "ans = ''\r\n",
    "words = []\r\n",
    "for i in strr.split():\r\n",
    "    words.append(i)\r\n",
    "print(\"$\".join(words))"
   ],
   "outputs": [
    {
     "output_type": "stream",
     "name": "stdout",
     "text": [
      "an$apple$is$a$fruit\n"
     ]
    }
   ],
   "metadata": {}
  },
  {
   "cell_type": "code",
   "execution_count": null,
   "source": [],
   "outputs": [],
   "metadata": {}
  }
 ],
 "metadata": {
  "interpreter": {
   "hash": "ac59ebe37160ed0dfa835113d9b8498d9f09ceb179beaac4002f036b9467c963"
  },
  "kernelspec": {
   "display_name": "Python 3.9.0 64-bit",
   "name": "python3"
  },
  "language_info": {
   "codemirror_mode": {
    "name": "ipython",
    "version": 3
   },
   "file_extension": ".py",
   "mimetype": "text/x-python",
   "name": "python",
   "nbconvert_exporter": "python",
   "pygments_lexer": "ipython3",
   "version": "3.9.0"
  },
  "metadata": {
   "interpreter": {
    "hash": "ac59ebe37160ed0dfa835113d9b8498d9f09ceb179beaac4002f036b9467c963"
   }
  },
  "orig_nbformat": 2
 },
 "nbformat": 4,
 "nbformat_minor": 2
}