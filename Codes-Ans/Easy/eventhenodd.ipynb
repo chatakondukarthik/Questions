{
 "metadata": {
  "language_info": {
   "codemirror_mode": {
    "name": "ipython",
    "version": 3
   },
   "file_extension": ".py",
   "mimetype": "text/x-python",
   "name": "python",
   "nbconvert_exporter": "python",
   "pygments_lexer": "ipython3",
   "version": "3.9.0-final"
  },
  "orig_nbformat": 2,
  "kernelspec": {
   "name": "python3",
   "display_name": "Python 3.9.0 64-bit",
   "metadata": {
    "interpreter": {
     "hash": "ac59ebe37160ed0dfa835113d9b8498d9f09ceb179beaac4002f036b9467c963"
    }
   }
  }
 },
 "nbformat": 4,
 "nbformat_minor": 2,
 "cells": [
  {
   "cell_type": "markdown",
   "source": [
    "Given an array A of non-negative intergers, return an array consisting of all the even elements of A, followed by all the odd elements of A."
   ],
   "metadata": {}
  },
  {
   "cell_type": "markdown",
   "source": [
    "You may return any answer array that satisfies this condition\n"
   ],
   "metadata": {}
  },
  {
   "cell_type": "markdown",
   "source": [
    "Input : [3,1,2,4]\n",
    "Output : [2,4,3,1]"
   ],
   "metadata": {}
  },
  {
   "cell_type": "code",
   "execution_count": 4,
   "source": [
    "def eventhenodd(a):\r\n",
    "    a.sort()\r\n",
    "    b=[]\r\n",
    "    pos=0\r\n",
    "    for i in a:\r\n",
    "        if i%2 != 0:\r\n",
    "            b.append(i)\r\n",
    "        else:\r\n",
    "            b.insert(pos, i)\r\n",
    "            pos += 1\r\n",
    "    return b"
   ],
   "outputs": [],
   "metadata": {}
  },
  {
   "cell_type": "code",
   "execution_count": 5,
   "source": [
    "eventhenodd([12,34,459,8,90,3])"
   ],
   "outputs": [
    {
     "output_type": "execute_result",
     "data": {
      "text/plain": [
       "[8, 12, 34, 90, 3, 459]"
      ]
     },
     "metadata": {},
     "execution_count": 5
    }
   ],
   "metadata": {}
  },
  {
   "cell_type": "code",
   "execution_count": null,
   "source": [],
   "outputs": [],
   "metadata": {}
  }
 ]
}