{
 "metadata": {
  "language_info": {
   "codemirror_mode": {
    "name": "ipython",
    "version": 3
   },
   "file_extension": ".py",
   "mimetype": "text/x-python",
   "name": "python",
   "nbconvert_exporter": "python",
   "pygments_lexer": "ipython3",
   "version": "3.9.0-final"
  },
  "orig_nbformat": 2,
  "kernelspec": {
   "name": "python3",
   "display_name": "Python 3.9.0 64-bit",
   "metadata": {
    "interpreter": {
     "hash": "ac59ebe37160ed0dfa835113d9b8498d9f09ceb179beaac4002f036b9467c963"
    }
   }
  }
 },
 "nbformat": 4,
 "nbformat_minor": 2,
 "cells": [
  {
   "source": [
    "Given an array A of non-negative intergers, return an array consisting of all the even elements of A, followed by all the odd elements of A."
   ],
   "cell_type": "markdown",
   "metadata": {}
  },
  {
   "source": [
    "You may return any answer array that satisfies this condition\n"
   ],
   "cell_type": "markdown",
   "metadata": {}
  },
  {
   "source": [
    "Input : [3,1,2,4]\n",
    "Output : [2,4,3,1]"
   ],
   "cell_type": "markdown",
   "metadata": {}
  },
  {
   "cell_type": "code",
   "execution_count": 1,
   "metadata": {},
   "outputs": [],
   "source": [
    "def eventhenodd(a):\n",
    "    b=[]\n",
    "    pos=0\n",
    "    for i in a:\n",
    "        if i%2 != 0:\n",
    "            b.append(i)\n",
    "        else:\n",
    "            b.insert(pos, i)\n",
    "            pos += 1\n",
    "    return b"
   ]
  },
  {
   "cell_type": "code",
   "execution_count": 2,
   "metadata": {},
   "outputs": [
    {
     "output_type": "execute_result",
     "data": {
      "text/plain": [
       "[2, 4, 3, 1]"
      ]
     },
     "metadata": {},
     "execution_count": 2
    }
   ],
   "source": [
    "eventhenodd([3,1,2,4])"
   ]
  },
  {
   "cell_type": "code",
   "execution_count": null,
   "metadata": {},
   "outputs": [],
   "source": []
  }
 ]
}