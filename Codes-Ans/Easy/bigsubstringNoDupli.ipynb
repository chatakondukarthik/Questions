{
 "cells": [
  {
   "cell_type": "markdown",
   "metadata": {},
   "source": [
    "#Forgot to add the desc\r\n",
    "\r\n",
    "if u give some string like aaabbaabc, it should make it ababc(removes duplicates right after the letter, not everything) adn it should print the big sub string with largest length\r\n",
    "in this case, it is 3"
   ]
  },
  {
   "cell_type": "code",
   "execution_count": 74,
   "metadata": {},
   "outputs": [],
   "source": [
    "strr = input(\"Enter the string : \")\r\n",
    "strr = list(strr)"
   ]
  },
  {
   "cell_type": "code",
   "execution_count": 75,
   "metadata": {},
   "outputs": [],
   "source": [
    "res = []\r\n"
   ]
  },
  {
   "cell_type": "code",
   "execution_count": 76,
   "metadata": {},
   "outputs": [],
   "source": [
    "length = len(strr)"
   ]
  },
  {
   "cell_type": "code",
   "execution_count": 77,
   "metadata": {},
   "outputs": [],
   "source": [
    "for i in range(length):\r\n",
    "    if(strr[i] != strr[i-1]):\r\n",
    "        res.append(strr[i])"
   ]
  },
  {
   "cell_type": "code",
   "execution_count": 78,
   "metadata": {},
   "outputs": [
    {
     "data": {
      "text/plain": [
       "['b', 'a', 'b', 'd', 'a', 'b', 'c', 'd', 'a']"
      ]
     },
     "execution_count": 78,
     "metadata": {},
     "output_type": "execute_result"
    }
   ],
   "source": [
    "res = list(res)\r\n",
    "res"
   ]
  },
  {
   "cell_type": "code",
   "execution_count": 79,
   "metadata": {},
   "outputs": [
    {
     "name": "stdout",
     "output_type": "stream",
     "text": [
      "b 0 b\n",
      "a 1 ba\n",
      "d 3 bd\n",
      "a 4 bda\n",
      "c 6 bc\n",
      "d 7 bcd\n",
      "a 8 bcda\n",
      "4\n"
     ]
    }
   ],
   "source": [
    "count = 0\r\n",
    "sample = ''\r\n",
    "\r\n",
    "for i in range(len(res)):\r\n",
    "    if(res[i] not in sample):\r\n",
    "        sample += res[i]\r\n",
    "        print(res[i],i, sample)\r\n",
    "    else:\r\n",
    "        if(count < len(sample)):\r\n",
    "            count = len(sample)\r\n",
    "        sample = res[i]\r\n",
    "\r\n",
    "if(count < len(sample)):#when it comes out of loop, it doesnt check the updated string in sample, so we do it once more\r\n",
    "    count = len(sample)\r\n",
    "print(count)"
   ]
  },
  {
   "cell_type": "code",
   "execution_count": null,
   "metadata": {},
   "outputs": [],
   "source": []
  }
 ],
 "metadata": {
  "interpreter": {
   "hash": "ac59ebe37160ed0dfa835113d9b8498d9f09ceb179beaac4002f036b9467c963"
  },
  "kernelspec": {
   "display_name": "Python 3.9.0 64-bit",
   "name": "python3"
  },
  "language_info": {
   "codemirror_mode": {
    "name": "ipython",
    "version": 3
   },
   "file_extension": ".py",
   "mimetype": "text/x-python",
   "name": "python",
   "nbconvert_exporter": "python",
   "pygments_lexer": "ipython3",
   "version": "3.9.0"
  },
  "orig_nbformat": 4
 },
 "nbformat": 4,
 "nbformat_minor": 2
}