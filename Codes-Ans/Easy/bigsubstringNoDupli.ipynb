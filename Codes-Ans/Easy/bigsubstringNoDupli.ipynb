{
 "cells": [
  {
   "cell_type": "markdown",
   "metadata": {},
   "source": [
    "#Forgot to add the desc\r\n",
    "\r\n",
    "if u give some string like aaabbaabc"
   ]
  },
  {
   "cell_type": "code",
   "execution_count": 61,
   "metadata": {},
   "outputs": [],
   "source": [
    "strr = input(\"Enter the string : \")\r\n",
    "strr = list(strr)"
   ]
  },
  {
   "cell_type": "code",
   "execution_count": 62,
   "metadata": {},
   "outputs": [],
   "source": [
    "res = []\r\n"
   ]
  },
  {
   "cell_type": "code",
   "execution_count": 63,
   "metadata": {},
   "outputs": [],
   "source": [
    "length = len(strr)"
   ]
  },
  {
   "cell_type": "code",
   "execution_count": 64,
   "metadata": {},
   "outputs": [],
   "source": [
    "for i in range(length):\r\n",
    "    if(strr[i] != strr[i-1]):\r\n",
    "        res.append(strr[i])"
   ]
  },
  {
   "cell_type": "code",
   "execution_count": 65,
   "metadata": {},
   "outputs": [
    {
     "data": {
      "text/plain": [
       "['a', 'b', 'a', 'b', 'c']"
      ]
     },
     "execution_count": 65,
     "metadata": {},
     "output_type": "execute_result"
    }
   ],
   "source": [
    "res = list(res)\r\n",
    "res"
   ]
  },
  {
   "cell_type": "code",
   "execution_count": 73,
   "metadata": {},
   "outputs": [
    {
     "name": "stdout",
     "output_type": "stream",
     "text": [
      "a 0 a\n",
      "b 1 ab\n",
      "b 3 ab\n",
      "c 4 abc\n",
      "3\n"
     ]
    }
   ],
   "source": [
    "count = 0\r\n",
    "sample = ''\r\n",
    "for i in range(len(res)):\r\n",
    "    if(res[i] not in sample):\r\n",
    "        sample += res[i]\r\n",
    "        print(res[i],i, sample)\r\n",
    "    else:\r\n",
    "        if(count < len(sample)):\r\n",
    "            count = len(sample)\r\n",
    "        sample = res[i]\r\n",
    "\r\n",
    "if(count < len(sample)):#when it comes out of loop, it doesnt check the updated string in sample, so we do it once more\r\n",
    "    count = len(sample)\r\n",
    "print(count)"
   ]
  },
  {
   "cell_type": "code",
   "execution_count": null,
   "metadata": {},
   "outputs": [],
   "source": []
  }
 ],
 "metadata": {
  "interpreter": {
   "hash": "ac59ebe37160ed0dfa835113d9b8498d9f09ceb179beaac4002f036b9467c963"
  },
  "kernelspec": {
   "display_name": "Python 3.9.0 64-bit",
   "name": "python3"
  },
  "language_info": {
   "codemirror_mode": {
    "name": "ipython",
    "version": 3
   },
   "file_extension": ".py",
   "mimetype": "text/x-python",
   "name": "python",
   "nbconvert_exporter": "python",
   "pygments_lexer": "ipython3",
   "version": "3.9.0"
  },
  "orig_nbformat": 4
 },
 "nbformat": 4,
 "nbformat_minor": 2
}