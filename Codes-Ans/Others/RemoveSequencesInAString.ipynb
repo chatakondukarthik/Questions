{
 "metadata": {
  "language_info": {
   "codemirror_mode": {
    "name": "ipython",
    "version": 3
   },
   "file_extension": ".py",
   "mimetype": "text/x-python",
   "name": "python",
   "nbconvert_exporter": "python",
   "pygments_lexer": "ipython3",
   "version": "3.9.0-final"
  },
  "orig_nbformat": 2,
  "kernelspec": {
   "name": "python3",
   "display_name": "Python 3.9.0 64-bit",
   "metadata": {
    "interpreter": {
     "hash": "ac59ebe37160ed0dfa835113d9b8498d9f09ceb179beaac4002f036b9467c963"
    }
   }
  }
 },
 "nbformat": 4,
 "nbformat_minor": 2,
 "cells": [
  {
   "cell_type": "code",
   "execution_count": 1,
   "metadata": {},
   "outputs": [
    {
     "output_type": "execute_result",
     "data": {
      "text/plain": [
       "'aabbcaaddd'"
      ]
     },
     "metadata": {},
     "execution_count": 1
    }
   ],
   "source": [
    "arr = input(\"Enter the string : \")\n",
    "arr"
   ]
  },
  {
   "cell_type": "code",
   "execution_count": 2,
   "metadata": {},
   "outputs": [
    {
     "output_type": "execute_result",
     "data": {
      "text/plain": [
       "'abcad'"
      ]
     },
     "metadata": {},
     "execution_count": 2
    }
   ],
   "source": [
    "count = 1\n",
    "prev = arr[0]\n",
    "ans = arr[0]\n",
    "while(count < len(arr)):\n",
    "    if(arr[count] != prev):\n",
    "        ans = ans + arr[count]\n",
    "    prev = arr[count]\n",
    "    count+=1\n",
    "ans"
   ]
  },
  {
   "cell_type": "code",
   "execution_count": null,
   "metadata": {},
   "outputs": [],
   "source": []
  }
 ]
}