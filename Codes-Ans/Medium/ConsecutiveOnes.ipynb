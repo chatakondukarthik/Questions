{
 "metadata": {
  "language_info": {
   "codemirror_mode": {
    "name": "ipython",
    "version": 3
   },
   "file_extension": ".py",
   "mimetype": "text/x-python",
   "name": "python",
   "nbconvert_exporter": "python",
   "pygments_lexer": "ipython3",
   "version": "3.9.0-final"
  },
  "orig_nbformat": 2,
  "kernelspec": {
   "name": "python3",
   "display_name": "Python 3.9.0 64-bit",
   "metadata": {
    "interpreter": {
     "hash": "ac59ebe37160ed0dfa835113d9b8498d9f09ceb179beaac4002f036b9467c963"
    }
   }
  }
 },
 "nbformat": 4,
 "nbformat_minor": 2,
 "cells": [
  {
   "source": [
    "###UNDER PROGRESS\n",
    "Given a binary array, find the maximum number of consecutive 1s in this array."
   ],
   "cell_type": "markdown",
   "metadata": {}
  },
  {
   "cell_type": "code",
   "execution_count": 1,
   "metadata": {},
   "outputs": [],
   "source": [
    "arr=input(\"Enter the array : \")\n",
    "arr = list(map(int, arr.split(' ')))\n"
   ]
  },
  {
   "source": [
    "count = 0\n",
    "prev = 0\n",
    "def maxOnes(arr,i):\n",
    "    max=0\n",
    "    if arr[i] == 1 :\n",
    "        maxOnes(arr,i+1)\n",
    "        max+=1\n",
    "        return 0\n",
    "    return max , i\n",
    "for i in range(len(arr)):\n",
    "    if(arr[i] == 1): \n",
    "        count, i = maxOnes(arr,i)\n",
    "    \n"
   ],
   "cell_type": "markdown",
   "metadata": {}
  },
  {
   "source": [
    "count = 0\n",
    "prev = 0\n",
    "for i in range(len(arr)+1):\n",
    "    if arr[i] == 1:\n",
    "        count = 1\n",
    "        j=i+1\n",
    "        while(arr[j]==1):\n",
    "            count += 1\n",
    "    if(prev < count):\n",
    "        prev = count\n",
    "print(prev)"
   ],
   "cell_type": "markdown",
   "metadata": {}
  },
  {
   "cell_type": "code",
   "execution_count": null,
   "metadata": {},
   "outputs": [],
   "source": [
    "i=1\n",
    "prev=0\n",
    "while(i < len(arr)):\n",
    "    if(arr[i-1]==1):\n",
    "        max = 1\n",
    "        i+=1\n",
    "        while(arr[i-2] == arr[i-1]):\n",
    "            max += 1\n",
    "            i+=1\n",
    "        if(prev<max): prev=max\n",
    "    i+=1\n",
    "prev"
   ]
  }
 ]
}