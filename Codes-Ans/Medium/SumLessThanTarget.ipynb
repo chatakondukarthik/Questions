{
 "metadata": {
  "language_info": {
   "codemirror_mode": {
    "name": "ipython",
    "version": 3
   },
   "file_extension": ".py",
   "mimetype": "text/x-python",
   "name": "python",
   "nbconvert_exporter": "python",
   "pygments_lexer": "ipython3",
   "version": "3.9.0-final"
  },
  "orig_nbformat": 2,
  "kernelspec": {
   "name": "python3",
   "display_name": "Python 3.9.0 64-bit",
   "metadata": {
    "interpreter": {
     "hash": "ac59ebe37160ed0dfa835113d9b8498d9f09ceb179beaac4002f036b9467c963"
    }
   }
  }
 },
 "nbformat": 4,
 "nbformat_minor": 2,
 "cells": [
  {
   "source": [
    "Given an array of n integers nums and a target, find the number of triplets i,j,k with 0<=i<j<k<n that satisfy the condition nums[i] + nums[j] + nums[k] < target\n",
    "\n",
    "Input : nums = [-2,0,1,3] and the target = 2\n",
    "Output : 2\n",
    "Explanation : Because there are 2 triplets which sums less than 2 :\n",
    "[-2,0,1]\n",
    "[-2,0,3]"
   ],
   "cell_type": "markdown",
   "metadata": {}
  },
  {
   "cell_type": "code",
   "execution_count": 10,
   "metadata": {},
   "outputs": [
    {
     "output_type": "execute_result",
     "data": {
      "text/plain": [
       "[1, 2, 3, 4, 5]"
      ]
     },
     "metadata": {},
     "execution_count": 10
    }
   ],
   "source": [
    "arr=input(\"Enter the array : \")\n",
    "arr = list(map(int, arr.split(' ')))\n",
    "arr"
   ]
  },
  {
   "cell_type": "code",
   "execution_count": 13,
   "metadata": {},
   "outputs": [
    {
     "output_type": "execute_result",
     "data": {
      "text/plain": [
       "8"
      ]
     },
     "metadata": {},
     "execution_count": 13
    }
   ],
   "source": [
    "target = int(input(\"Enter the target num : \"))\n",
    "target"
   ]
  },
  {
   "cell_type": "code",
   "execution_count": 14,
   "metadata": {},
   "outputs": [
    {
     "output_type": "execute_result",
     "data": {
      "text/plain": [
       "2"
      ]
     },
     "metadata": {},
     "execution_count": 14
    }
   ],
   "source": [
    "count = 0\n",
    "for i in range(0,len(arr)):\n",
    "    for j in range(i+1, len(arr)):\n",
    "        for k in range(j+1,len(arr)):\n",
    "            if(arr[i]+arr[j]+arr[k] < target):\n",
    "                count += 1\n",
    "count"
   ]
  },
  {
   "cell_type": "code",
   "execution_count": null,
   "metadata": {},
   "outputs": [],
   "source": []
  }
 ]
}