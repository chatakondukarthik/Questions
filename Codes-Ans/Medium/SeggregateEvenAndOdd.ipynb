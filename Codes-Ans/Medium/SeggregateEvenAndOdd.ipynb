{
 "cells": [
  {
   "cell_type": "code",
   "execution_count": 14,
   "metadata": {},
   "outputs": [
    {
     "name": "stdout",
     "output_type": "stream",
     "text": [
      "[8, 12, 34, 90, 3, 9, 45]\n"
     ]
    }
   ],
   "source": [
    "n=7\r\n",
    "arr = [12,34,45,9,8,90,3]\r\n",
    "even = []\r\n",
    "odd = []\r\n",
    "for i in arr:\r\n",
    "    if(i%2 == 0): even.append(i)\r\n",
    "    else: odd.append(i)\r\n",
    "even.sort()\r\n",
    "odd.sort()\r\n",
    "arr = even + odd\r\n",
    "print(arr)"
   ]
  },
  {
   "cell_type": "code",
   "execution_count": null,
   "metadata": {},
   "outputs": [],
   "source": []
  }
 ],
 "metadata": {
  "interpreter": {
   "hash": "ac59ebe37160ed0dfa835113d9b8498d9f09ceb179beaac4002f036b9467c963"
  },
  "kernelspec": {
   "display_name": "Python 3.9.0 64-bit",
   "name": "python3"
  },
  "language_info": {
   "codemirror_mode": {
    "name": "ipython",
    "version": 3
   },
   "file_extension": ".py",
   "mimetype": "text/x-python",
   "name": "python",
   "nbconvert_exporter": "python",
   "pygments_lexer": "ipython3",
   "version": "3.9.0"
  },
  "orig_nbformat": 4
 },
 "nbformat": 4,
 "nbformat_minor": 2
}